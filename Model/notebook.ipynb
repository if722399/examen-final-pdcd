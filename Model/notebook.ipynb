{
 "cells": [
  {
   "attachments": {
    "Logo%20ITESO.png": {
     "image/png": "[encoded data removed]"
    }
   },
   "cell_type": "markdown",
   "metadata": {},
   "source": [
    "![Logo%20ITESO.png](attachment:Logo%20ITESO.png)"
   ]
  },
  {
   "cell_type": "markdown",
   "metadata": {},
   "source": [
    "<center><font color=#555555><font size=6> Examen Final <br>"
   ]
  },
  {
   "cell_type": "markdown",
   "metadata": {},
   "source": [
    "<hr style=\"border:0.02in solid gray\"> </hr>"
   ]
  },
  {
   "cell_type": "markdown",
   "metadata": {},
   "source": [
    "<center><font color=#555555><font size=5> Proyecto de ciencia de datos </font> <br> <br>\n",
    "<center><font color=#555555><font size=5> Profesor: Cristian Camilo Zapata </font> <br> <br>\n",
    "<center><font color=#555555><font size=4> Navarro Silva José Tonatiuh, if722399 </font> <br> <br>\n",
    "   \n",
    "<center> <font color= #555555> <font size = 4> 11.2022 </a> | <font color= #555555> <font size = 4> Repositorio: <a href='https://github.com/if722399/Examen_final_DS'>Aquí</a></font>"
   ]
  },
  {
   "cell_type": "markdown",
   "metadata": {},
   "source": [
    "<hr style=\"border:0.02in solid gray\"> </hr>"
   ]
  },
  {
   "cell_type": "markdown",
   "metadata": {},
   "source": [
    "<font color= #555555> <font size = 5> Objetivo: </font>"
   ]
  },
  {
   "cell_type": "markdown",
   "metadata": {},
   "source": [
    "<font color= #6B6B6B> <font size = 3>  Desarrollar un proyecto de ciencia de datos de inicio a fin."
   ]
  },
  {
   "cell_type": "markdown",
   "metadata": {},
   "source": [
    "<font color= #555555> <font size = 5> Marco Teórico: </font>"
   ]
  },
  {
   "cell_type": "markdown",
   "metadata": {},
   "source": [
    "<font color= #6B6B6B> <font size = 3>  En este proyecto lo que se busca es aplicar conocimientos adquiridos previamente sobre exploración y pre procesamiento de datos, así como el desarrollo de un modelo de Machine Learning para con esto incluir también lo aprendido a lo largo de estos últimos meses referente a MLOps."
   ]
  },
  {
   "cell_type": "markdown",
   "metadata": {},
   "source": [
    "<br>"
   ]
  },
  {
   "cell_type": "markdown",
   "metadata": {},
   "source": [
    "# <font color= #6B6B6B> <font size = 6>Desarrollo </font>"
   ]
  },
  {
   "cell_type": "markdown",
   "metadata": {},
   "source": [
    "<hr style=\"border:0.02in solid gray\"> </hr>"
   ]
  },
  {
   "cell_type": "markdown",
   "metadata": {},
   "source": [
    "<font color= brown> <font size = 5> 1. Data Exploratory Analysis </font>"
   ]
  },
  {
   "cell_type": "markdown",
   "metadata": {},
   "source": [
    "Importar nuestras librerias"
   ]
  },
  {
   "cell_type": "code",
   "execution_count": 25,
   "metadata": {},
   "outputs": [],
   "source": [
    "import pandas as pd\n",
    "import numpy as np\n",
    "import seaborn as sns\n",
    "import matplotlib.pyplot as plt\n",
    "from sklearn.model_selection import train_test_split\n",
    "plt.style.use('ggplot')\n",
    "import re\n",
    "\n",
    "from sklearn.ensemble import RandomForestClassifier\n",
    "from sklearn.model_selection import (train_test_split,\n",
    "                                     StratifiedKFold,\n",
    "                                     cross_validate,\n",
    "                                     KFold, GridSearchCV)\n",
    "from sklearn.metrics import (roc_auc_score, accuracy_score,\n",
    "                             recall_score, confusion_matrix)\n",
    "\n",
    "import functions as fn"
   ]
  },
  {
   "cell_type": "code",
   "execution_count": 3,
   "metadata": {},
   "outputs": [
    {
     "data": {
      "text/html": [
       "<div>\n",
       "<style scoped>\n",
       "    .dataframe tbody tr th:only-of-type {\n",
       "        vertical-align: middle;\n",
       "    }\n",
       "\n",
       "    .dataframe tbody tr th {\n",
       "        vertical-align: top;\n",
       "    }\n",
       "\n",
       "    .dataframe thead th {\n",
       "        text-align: right;\n",
       "    }\n",
       "</style>\n",
       "<table border=\"1\" class=\"dataframe\">\n",
       "  <thead>\n",
       "    <tr style=\"text-align: right;\">\n",
       "      <th></th>\n",
       "      <th>Project Title</th>\n",
       "      <th>Project Short Description</th>\n",
       "      <th>Project Subject Category Tree</th>\n",
       "      <th>Project Cost</th>\n",
       "      <th>Project Current Status</th>\n",
       "    </tr>\n",
       "  </thead>\n",
       "  <tbody>\n",
       "    <tr>\n",
       "      <th>0</th>\n",
       "      <td>Stand Up to Bullying: Together We Can!</td>\n",
       "      <td>Did you know that 1-7 students in grades K-12 ...</td>\n",
       "      <td>Applied Learning</td>\n",
       "      <td>361.80</td>\n",
       "      <td>Fully Funded</td>\n",
       "    </tr>\n",
       "    <tr>\n",
       "      <th>1</th>\n",
       "      <td>Learning in Color!</td>\n",
       "      <td>Help us have a fun, interactive listening cent...</td>\n",
       "      <td>Applied Learning, Literacy &amp; Language</td>\n",
       "      <td>512.85</td>\n",
       "      <td>Expired</td>\n",
       "    </tr>\n",
       "    <tr>\n",
       "      <th>2</th>\n",
       "      <td>Help Second Grade ESL Students Develop Languag...</td>\n",
       "      <td>Visiting or moving to a new place can be very ...</td>\n",
       "      <td>Literacy &amp; Language</td>\n",
       "      <td>435.92</td>\n",
       "      <td>Fully Funded</td>\n",
       "    </tr>\n",
       "    <tr>\n",
       "      <th>3</th>\n",
       "      <td>Help Bilingual Students Strengthen Reading Com...</td>\n",
       "      <td>Students at our school are still working hard ...</td>\n",
       "      <td>Literacy &amp; Language</td>\n",
       "      <td>161.26</td>\n",
       "      <td>Fully Funded</td>\n",
       "    </tr>\n",
       "    <tr>\n",
       "      <th>4</th>\n",
       "      <td>Help Us Make Each Minute Count!</td>\n",
       "      <td>\"Idle hands\" were something that Issac Watts s...</td>\n",
       "      <td>Special Needs</td>\n",
       "      <td>264.19</td>\n",
       "      <td>Fully Funded</td>\n",
       "    </tr>\n",
       "  </tbody>\n",
       "</table>\n",
       "</div>"
      ],
      "text/plain": [
       "                                       Project Title  \\\n",
       "0             Stand Up to Bullying: Together We Can!   \n",
       "1                                 Learning in Color!   \n",
       "2  Help Second Grade ESL Students Develop Languag...   \n",
       "3  Help Bilingual Students Strengthen Reading Com...   \n",
       "4                   Help Us Make Each Minute Count!    \n",
       "\n",
       "                           Project Short Description  \\\n",
       "0  Did you know that 1-7 students in grades K-12 ...   \n",
       "1  Help us have a fun, interactive listening cent...   \n",
       "2  Visiting or moving to a new place can be very ...   \n",
       "3  Students at our school are still working hard ...   \n",
       "4  \"Idle hands\" were something that Issac Watts s...   \n",
       "\n",
       "           Project Subject Category Tree  Project Cost Project Current Status  \n",
       "0                       Applied Learning        361.80           Fully Funded  \n",
       "1  Applied Learning, Literacy & Language        512.85                Expired  \n",
       "2                    Literacy & Language        435.92           Fully Funded  \n",
       "3                    Literacy & Language        161.26           Fully Funded  \n",
       "4                          Special Needs        264.19           Fully Funded  "
      ]
     },
     "metadata": {},
     "output_type": "display_data"
    },
    {
     "data": {
      "text/html": [
       "<div>\n",
       "<style scoped>\n",
       "    .dataframe tbody tr th:only-of-type {\n",
       "        vertical-align: middle;\n",
       "    }\n",
       "\n",
       "    .dataframe tbody tr th {\n",
       "        vertical-align: top;\n",
       "    }\n",
       "\n",
       "    .dataframe thead th {\n",
       "        text-align: right;\n",
       "    }\n",
       "</style>\n",
       "<table border=\"1\" class=\"dataframe\">\n",
       "  <thead>\n",
       "    <tr style=\"text-align: right;\">\n",
       "      <th></th>\n",
       "      <th>Project Title</th>\n",
       "      <th>Project Short Description</th>\n",
       "      <th>Project Subject Category Tree</th>\n",
       "      <th>Project Cost</th>\n",
       "      <th>Project Current Status</th>\n",
       "    </tr>\n",
       "  </thead>\n",
       "  <tbody>\n",
       "    <tr>\n",
       "      <th>1109976</th>\n",
       "      <td>Screen Printing 101</td>\n",
       "      <td>Most of the scholars had no idea that they wou...</td>\n",
       "      <td>Music &amp; The Arts</td>\n",
       "      <td>633.84</td>\n",
       "      <td>Fully Funded</td>\n",
       "    </tr>\n",
       "    <tr>\n",
       "      <th>1109977</th>\n",
       "      <td>Flexible Seating for Super Second Graders!</td>\n",
       "      <td>My students are super second graders!!! Our sc...</td>\n",
       "      <td>Literacy &amp; Language, Math &amp; Science</td>\n",
       "      <td>626.24</td>\n",
       "      <td>Live</td>\n",
       "    </tr>\n",
       "    <tr>\n",
       "      <th>1109978</th>\n",
       "      <td>Growing Artists!</td>\n",
       "      <td>I teach at a Title I school, and 76% of studen...</td>\n",
       "      <td>Literacy &amp; Language, Music &amp; The Arts</td>\n",
       "      <td>193.13</td>\n",
       "      <td>Fully Funded</td>\n",
       "    </tr>\n",
       "    <tr>\n",
       "      <th>1109979</th>\n",
       "      <td>TIME For Kids!</td>\n",
       "      <td>I teach at a Title I school for a district tha...</td>\n",
       "      <td>Literacy &amp; Language</td>\n",
       "      <td>246.18</td>\n",
       "      <td>Live</td>\n",
       "    </tr>\n",
       "    <tr>\n",
       "      <th>1109980</th>\n",
       "      <td>Growing Digital Learners</td>\n",
       "      <td>My preschool students are the sweetest, despit...</td>\n",
       "      <td>Applied Learning, Literacy &amp; Language</td>\n",
       "      <td>578.16</td>\n",
       "      <td>Live</td>\n",
       "    </tr>\n",
       "  </tbody>\n",
       "</table>\n",
       "</div>"
      ],
      "text/plain": [
       "                                      Project Title  \\\n",
       "1109976                         Screen Printing 101   \n",
       "1109977  Flexible Seating for Super Second Graders!   \n",
       "1109978                            Growing Artists!   \n",
       "1109979                              TIME For Kids!   \n",
       "1109980                    Growing Digital Learners   \n",
       "\n",
       "                                 Project Short Description  \\\n",
       "1109976  Most of the scholars had no idea that they wou...   \n",
       "1109977  My students are super second graders!!! Our sc...   \n",
       "1109978  I teach at a Title I school, and 76% of studen...   \n",
       "1109979  I teach at a Title I school for a district tha...   \n",
       "1109980  My preschool students are the sweetest, despit...   \n",
       "\n",
       "                 Project Subject Category Tree  Project Cost  \\\n",
       "1109976                       Music & The Arts        633.84   \n",
       "1109977    Literacy & Language, Math & Science        626.24   \n",
       "1109978  Literacy & Language, Music & The Arts        193.13   \n",
       "1109979                    Literacy & Language        246.18   \n",
       "1109980  Applied Learning, Literacy & Language        578.16   \n",
       "\n",
       "        Project Current Status  \n",
       "1109976           Fully Funded  \n",
       "1109977                   Live  \n",
       "1109978           Fully Funded  \n",
       "1109979                   Live  \n",
       "1109980                   Live  "
      ]
     },
     "metadata": {},
     "output_type": "display_data"
    }
   ],
   "source": [
    "# Cargar nuestros datos\n",
    "df = pd.read_csv('../files/Projects_cleansed.csv').copy()\n",
    "\n",
    "# Echar un vistazo los primeros y a los últimos renglones de nuestro dataset\n",
    "display(df.head())\n",
    "display(df.tail())"
   ]
  },
  {
   "cell_type": "code",
   "execution_count": 4,
   "metadata": {},
   "outputs": [
    {
     "name": "stdout",
     "output_type": "stream",
     "text": [
      "Este dataset contiene 5 columnas y 1109981 filas.\n"
     ]
    }
   ],
   "source": [
    "print(f'Este dataset contiene {df.shape[1]} columnas y {len(df)} filas.')"
   ]
  },
  {
   "cell_type": "markdown",
   "metadata": {},
   "source": [
    "Observar un breve reporte de calidad de datos (si existen datos nulos, la granularidad de las variables y el tipo de datos que tenemos)"
   ]
  },
  {
   "cell_type": "code",
   "execution_count": 5,
   "metadata": {},
   "outputs": [
    {
     "data": {
      "text/html": [
       "<div>\n",
       "<style scoped>\n",
       "    .dataframe tbody tr th:only-of-type {\n",
       "        vertical-align: middle;\n",
       "    }\n",
       "\n",
       "    .dataframe tbody tr th {\n",
       "        vertical-align: top;\n",
       "    }\n",
       "\n",
       "    .dataframe thead th {\n",
       "        text-align: right;\n",
       "    }\n",
       "</style>\n",
       "<table border=\"1\" class=\"dataframe\">\n",
       "  <thead>\n",
       "    <tr style=\"text-align: right;\">\n",
       "      <th></th>\n",
       "      <th>% of nulls</th>\n",
       "      <th>unique_values</th>\n",
       "      <th>type</th>\n",
       "    </tr>\n",
       "  </thead>\n",
       "  <tbody>\n",
       "    <tr>\n",
       "      <th>Project Title</th>\n",
       "      <td>0.0</td>\n",
       "      <td>926099</td>\n",
       "      <td>object</td>\n",
       "    </tr>\n",
       "    <tr>\n",
       "      <th>Project Short Description</th>\n",
       "      <td>0.0</td>\n",
       "      <td>841865</td>\n",
       "      <td>object</td>\n",
       "    </tr>\n",
       "    <tr>\n",
       "      <th>Project Subject Category Tree</th>\n",
       "      <td>0.0</td>\n",
       "      <td>51</td>\n",
       "      <td>object</td>\n",
       "    </tr>\n",
       "    <tr>\n",
       "      <th>Project Cost</th>\n",
       "      <td>0.0</td>\n",
       "      <td>163022</td>\n",
       "      <td>float64</td>\n",
       "    </tr>\n",
       "    <tr>\n",
       "      <th>Project Current Status</th>\n",
       "      <td>0.0</td>\n",
       "      <td>3</td>\n",
       "      <td>object</td>\n",
       "    </tr>\n",
       "  </tbody>\n",
       "</table>\n",
       "</div>"
      ],
      "text/plain": [
       "                               % of nulls  unique_values     type\n",
       "Project Title                         0.0         926099   object\n",
       "Project Short Description             0.0         841865   object\n",
       "Project Subject Category Tree         0.0             51   object\n",
       "Project Cost                          0.0         163022  float64\n",
       "Project Current Status                0.0              3   object"
      ]
     },
     "execution_count": 5,
     "metadata": {},
     "output_type": "execute_result"
    }
   ],
   "source": [
    "fn.dqr(df)"
   ]
  },
  {
   "cell_type": "markdown",
   "metadata": {},
   "source": [
    "Nuestras variables son bastante granulares sin embargo ninguna variable contiene el mismo número de valores unicos que el número total de instancias por lo que me intriga observar los valores duplicados y por qué es que se podría deber este fenómeno, además de esto la que será nuestra variable de respuesta contiene 3 valores únicos, habrá que observarlos ya que unicamente vamos a pronósticar 1 = funded y 0 = not funded."
   ]
  },
  {
   "cell_type": "markdown",
   "metadata": {},
   "source": [
    "#### Modificación a la variable de respuesta"
   ]
  },
  {
   "cell_type": "code",
   "execution_count": 7,
   "metadata": {},
   "outputs": [
    {
     "data": {
      "text/plain": [
       "array(['Fully Funded', 'Expired', 'Live'], dtype=object)"
      ]
     },
     "execution_count": 7,
     "metadata": {},
     "output_type": "execute_result"
    }
   ],
   "source": [
    "df.iloc[0:,-1].unique()"
   ]
  },
  {
   "cell_type": "markdown",
   "metadata": {},
   "source": [
    "Me hace sentido hacer el reemplazo de `Fully Funded` por el valor de **1** y las categorías de `Expired` y `Live` por **0**, sin embargo antes de hacer este reemplazo quiero ver si existen valores repetidos en `Project Title` y `Project Short Description` que contengan categorías diferentes en la bariable del estatus de proyecto"
   ]
  },
  {
   "cell_type": "code",
   "execution_count": 8,
   "metadata": {},
   "outputs": [],
   "source": [
    "df_grouped = df.groupby('Project Short Description').agg({'Project Current Status':'nunique',\n",
    "                                                                          'Project Subject Category Tree':'nunique',\n",
    "                                                                         'Project Title':'nunique',\n",
    "                                                             'Project Cost':'nunique'})"
   ]
  },
  {
   "cell_type": "markdown",
   "metadata": {},
   "source": [
    "Lo que se quiere lograr es que a través de la descripción podamos pronosticar el estatus en Funded y Not Funded entonces lo primero que haré para tratar esos valores duplicados que tenemos es ver si tenemos alguna descripción asociada a un estatus `Fully Funded` y un `Expired`, lo que espero es que no haya para asi poder darle un drop a los duplicados y catalogar aquellas descripciones que cuentan con los estatus `Fully Funded` y `Live` como un **1**"
   ]
  },
  {
   "cell_type": "code",
   "execution_count": 9,
   "metadata": {},
   "outputs": [
    {
     "data": {
      "text/html": [
       "<div>\n",
       "<style scoped>\n",
       "    .dataframe tbody tr th:only-of-type {\n",
       "        vertical-align: middle;\n",
       "    }\n",
       "\n",
       "    .dataframe tbody tr th {\n",
       "        vertical-align: top;\n",
       "    }\n",
       "\n",
       "    .dataframe thead th {\n",
       "        text-align: right;\n",
       "    }\n",
       "</style>\n",
       "<table border=\"1\" class=\"dataframe\">\n",
       "  <thead>\n",
       "    <tr style=\"text-align: right;\">\n",
       "      <th></th>\n",
       "      <th>Project Current Status</th>\n",
       "      <th>Project Subject Category Tree</th>\n",
       "      <th>Project Title</th>\n",
       "      <th>Project Cost</th>\n",
       "    </tr>\n",
       "    <tr>\n",
       "      <th>Project Short Description</th>\n",
       "      <th></th>\n",
       "      <th></th>\n",
       "      <th></th>\n",
       "      <th></th>\n",
       "    </tr>\n",
       "  </thead>\n",
       "  <tbody>\n",
       "    <tr>\n",
       "      <th>\\n</th>\n",
       "      <td>1</td>\n",
       "      <td>2</td>\n",
       "      <td>2</td>\n",
       "      <td>2</td>\n",
       "    </tr>\n",
       "    <tr>\n",
       "      <th>\\nHigh Touch High Tech provides students with a fun, educational, hands-on, in-school science field trip. My students love science and are looking forward to exciting hands-on projects.</th>\n",
       "      <td>1</td>\n",
       "      <td>1</td>\n",
       "      <td>1</td>\n",
       "      <td>1</td>\n",
       "    </tr>\n",
       "    <tr>\n",
       "      <th></th>\n",
       "      <td>1</td>\n",
       "      <td>1</td>\n",
       "      <td>1</td>\n",
       "      <td>1</td>\n",
       "    </tr>\n",
       "    <tr>\n",
       "      <th>We are a school-wide Title I school. sOur students are hardworking, inquisitive, and</th>\n",
       "      <td>1</td>\n",
       "      <td>1</td>\n",
       "      <td>1</td>\n",
       "      <td>1</td>\n",
       "    </tr>\n",
       "    <tr>\n",
       "      <th>! Our students work so hard to be the best leaders they can be. Our school is located in Memphis, TN, and many of our students come from homes with obstacles to overcome. Most of my students come...</th>\n",
       "      <td>1</td>\n",
       "      <td>1</td>\n",
       "      <td>1</td>\n",
       "      <td>1</td>\n",
       "    </tr>\n",
       "    <tr>\n",
       "      <th>...</th>\n",
       "      <td>...</td>\n",
       "      <td>...</td>\n",
       "      <td>...</td>\n",
       "      <td>...</td>\n",
       "    </tr>\n",
       "    <tr>\n",
       "      <th>This year is the first school year for my school. We are so proud to be entering the lives of a very promising and diverse group of children and families. My school has a school for boys and a...</th>\n",
       "      <td>1</td>\n",
       "      <td>1</td>\n",
       "      <td>1</td>\n",
       "      <td>1</td>\n",
       "    </tr>\n",
       "    <tr>\n",
       "      <th>I teach a class of students with Special Needs or as we call it, Life Skills. My school is located in the middle of a large city; it is urban and impoverished. The community surrounding the...</th>\n",
       "      <td>1</td>\n",
       "      <td>2</td>\n",
       "      <td>3</td>\n",
       "      <td>3</td>\n",
       "    </tr>\n",
       "    <tr>\n",
       "      <th>Math is different than when I was nine. Students who learn math need to master key concepts in multiplication and division in order to become efficient and fluent. This is not easy to understand...</th>\n",
       "      <td>1</td>\n",
       "      <td>1</td>\n",
       "      <td>1</td>\n",
       "      <td>1</td>\n",
       "    </tr>\n",
       "    <tr>\n",
       "      <th>My classroom is a place of Discovery, Learning, and Growth. Our school is growing bigger and bigger each year. My students come from different backgrounds and cultures. My students live in an...</th>\n",
       "      <td>1</td>\n",
       "      <td>1</td>\n",
       "      <td>1</td>\n",
       "      <td>1</td>\n",
       "    </tr>\n",
       "    <tr>\n",
       "      <th>“We read to know we are not alone.” \\n - C.S. Lewis</th>\n",
       "      <td>1</td>\n",
       "      <td>1</td>\n",
       "      <td>1</td>\n",
       "      <td>1</td>\n",
       "    </tr>\n",
       "  </tbody>\n",
       "</table>\n",
       "<p>841865 rows × 4 columns</p>\n",
       "</div>"
      ],
      "text/plain": [
       "                                                    Project Current Status  \\\n",
       "Project Short Description                                                    \n",
       "\\n                                                                       1   \n",
       "\\nHigh Touch High Tech provides students with a...                       1   \n",
       "                                                                         1   \n",
       "  We are a school-wide Title I school. sOur stu...                       1   \n",
       "! Our students work so hard to be the best lead...                       1   \n",
       "...                                                                    ...   \n",
       "This year is the first school year for my scho...                       1   \n",
       "I teach a class of students with Special Need...                       1   \n",
       "Math is different than when I was nine. Stude...                       1   \n",
       "My classroom is a place of Discovery, Learnin...                       1   \n",
       "“We read to know we are not alone.” \\n - C.S. L...                       1   \n",
       "\n",
       "                                                    Project Subject Category Tree  \\\n",
       "Project Short Description                                                           \n",
       "\\n                                                                              2   \n",
       "\\nHigh Touch High Tech provides students with a...                              1   \n",
       "                                                                                1   \n",
       "  We are a school-wide Title I school. sOur stu...                              1   \n",
       "! Our students work so hard to be the best lead...                              1   \n",
       "...                                                                           ...   \n",
       "This year is the first school year for my scho...                              1   \n",
       "I teach a class of students with Special Need...                              2   \n",
       "Math is different than when I was nine. Stude...                              1   \n",
       "My classroom is a place of Discovery, Learnin...                              1   \n",
       "“We read to know we are not alone.” \\n - C.S. L...                              1   \n",
       "\n",
       "                                                    Project Title  \\\n",
       "Project Short Description                                           \n",
       "\\n                                                              2   \n",
       "\\nHigh Touch High Tech provides students with a...              1   \n",
       "                                                                1   \n",
       "  We are a school-wide Title I school. sOur stu...              1   \n",
       "! Our students work so hard to be the best lead...              1   \n",
       "...                                                           ...   \n",
       "This year is the first school year for my scho...              1   \n",
       "I teach a class of students with Special Need...              3   \n",
       "Math is different than when I was nine. Stude...              1   \n",
       "My classroom is a place of Discovery, Learnin...              1   \n",
       "“We read to know we are not alone.” \\n - C.S. L...              1   \n",
       "\n",
       "                                                    Project Cost  \n",
       "Project Short Description                                         \n",
       "\\n                                                             2  \n",
       "\\nHigh Touch High Tech provides students with a...             1  \n",
       "                                                               1  \n",
       "  We are a school-wide Title I school. sOur stu...             1  \n",
       "! Our students work so hard to be the best lead...             1  \n",
       "...                                                          ...  \n",
       "This year is the first school year for my scho...             1  \n",
       "I teach a class of students with Special Need...             3  \n",
       "Math is different than when I was nine. Stude...             1  \n",
       "My classroom is a place of Discovery, Learnin...             1  \n",
       "“We read to know we are not alone.” \\n - C.S. L...             1  \n",
       "\n",
       "[841865 rows x 4 columns]"
      ]
     },
     "execution_count": 9,
     "metadata": {},
     "output_type": "execute_result"
    }
   ],
   "source": [
    "df_grouped"
   ]
  },
  {
   "cell_type": "code",
   "execution_count": 10,
   "metadata": {},
   "outputs": [
    {
     "data": {
      "text/html": [
       "<div>\n",
       "<style scoped>\n",
       "    .dataframe tbody tr th:only-of-type {\n",
       "        vertical-align: middle;\n",
       "    }\n",
       "\n",
       "    .dataframe tbody tr th {\n",
       "        vertical-align: top;\n",
       "    }\n",
       "\n",
       "    .dataframe thead th {\n",
       "        text-align: right;\n",
       "    }\n",
       "</style>\n",
       "<table border=\"1\" class=\"dataframe\">\n",
       "  <thead>\n",
       "    <tr style=\"text-align: right;\">\n",
       "      <th></th>\n",
       "      <th>Project Current Status</th>\n",
       "      <th>Project Subject Category Tree</th>\n",
       "      <th>Project Title</th>\n",
       "      <th>Project Cost</th>\n",
       "    </tr>\n",
       "    <tr>\n",
       "      <th>Project Short Description</th>\n",
       "      <th></th>\n",
       "      <th></th>\n",
       "      <th></th>\n",
       "      <th></th>\n",
       "    </tr>\n",
       "  </thead>\n",
       "  <tbody>\n",
       "    <tr>\n",
       "      <th>\"A teacher takes a hand, opens a mind, and touches a heart.\" I love this quote because this is how I approach teaching. My students love to read and write. Providing a classroom that fosters and...</th>\n",
       "      <td>3</td>\n",
       "      <td>1</td>\n",
       "      <td>3</td>\n",
       "      <td>3</td>\n",
       "    </tr>\n",
       "    <tr>\n",
       "      <th>\"All kids need is a little help, a little hope, and someone who believes in them.\" \\n\\nMany of my students are sleeping in motel rooms, sharing a one bedroom home with other families, sleeping on...</th>\n",
       "      <td>3</td>\n",
       "      <td>9</td>\n",
       "      <td>24</td>\n",
       "      <td>23</td>\n",
       "    </tr>\n",
       "    <tr>\n",
       "      <th>\"All of us do not have equal talent, but all of us should have equal opportunity to develop our talents.\" John F. Kennedy. This quote cannot be more true for my students. Their talents are hidden...</th>\n",
       "      <td>3</td>\n",
       "      <td>5</td>\n",
       "      <td>11</td>\n",
       "      <td>11</td>\n",
       "    </tr>\n",
       "    <tr>\n",
       "      <th>\"Any book that helps a child to form a habit of reading, to make reading one of his deep and continuing needs, is good for him.\" - Richard McKenna\\n\\nMy students are a group of wonderfully diverse...</th>\n",
       "      <td>3</td>\n",
       "      <td>2</td>\n",
       "      <td>3</td>\n",
       "      <td>3</td>\n",
       "    </tr>\n",
       "    <tr>\n",
       "      <th>\"Awaken people's curiosity. It is enough to open minds, do not overload them. Put there just a spark. If there is some good inflammable stuff, it will catch fire.\"\\n Anatole France\\n\\nMy students...</th>\n",
       "      <td>3</td>\n",
       "      <td>5</td>\n",
       "      <td>6</td>\n",
       "      <td>6</td>\n",
       "    </tr>\n",
       "    <tr>\n",
       "      <th>...</th>\n",
       "      <td>...</td>\n",
       "      <td>...</td>\n",
       "      <td>...</td>\n",
       "      <td>...</td>\n",
       "    </tr>\n",
       "    <tr>\n",
       "      <th>You will often find my students gathered on the rug, brainstorming ideas for projects. My students are a diverse group of learners. Some are English Language Learners who speak other languages at...</th>\n",
       "      <td>3</td>\n",
       "      <td>9</td>\n",
       "      <td>14</td>\n",
       "      <td>14</td>\n",
       "    </tr>\n",
       "    <tr>\n",
       "      <th>You would think someone purposely gave my students an energizing drink before school. They arrive to school amped and ready to be active. It is my duty and pleasure to meet their needs...</th>\n",
       "      <td>3</td>\n",
       "      <td>4</td>\n",
       "      <td>7</td>\n",
       "      <td>8</td>\n",
       "    </tr>\n",
       "    <tr>\n",
       "      <th>Zoltan Kodaly once said, \"Real art is one of the most powerful forces in the rise of mankind, and he who renders it accessible to as many people as possible is a benefactor of humanity.\" \\n\\nOur...</th>\n",
       "      <td>3</td>\n",
       "      <td>3</td>\n",
       "      <td>20</td>\n",
       "      <td>18</td>\n",
       "    </tr>\n",
       "    <tr>\n",
       "      <th>\\</th>\n",
       "      <td>3</td>\n",
       "      <td>4</td>\n",
       "      <td>4</td>\n",
       "      <td>4</td>\n",
       "    </tr>\n",
       "    <tr>\n",
       "      <th>are dreamers, thinkers, explorers and adventurers! They come to school everyday excited to learn and discover new things! My students come from a small, tight-knit rural community where everyone...</th>\n",
       "      <td>3</td>\n",
       "      <td>1</td>\n",
       "      <td>5</td>\n",
       "      <td>5</td>\n",
       "    </tr>\n",
       "  </tbody>\n",
       "</table>\n",
       "<p>3863 rows × 4 columns</p>\n",
       "</div>"
      ],
      "text/plain": [
       "                                                    Project Current Status  \\\n",
       "Project Short Description                                                    \n",
       "\"A teacher takes a hand, opens a mind, and touc...                       3   \n",
       "\"All kids need is a little help, a little hope,...                       3   \n",
       "\"All of us do not have equal talent, but all of...                       3   \n",
       "\"Any book that helps a child to form a habit of...                       3   \n",
       "\"Awaken people's curiosity. It is enough to ope...                       3   \n",
       "...                                                                    ...   \n",
       "You will often find my students gathered on the...                       3   \n",
       "You would think someone purposely gave my stude...                       3   \n",
       "Zoltan Kodaly once said, \"Real art is one of th...                       3   \n",
       "\\                                                                        3   \n",
       "are dreamers, thinkers, explorers and adventure...                       3   \n",
       "\n",
       "                                                    Project Subject Category Tree  \\\n",
       "Project Short Description                                                           \n",
       "\"A teacher takes a hand, opens a mind, and touc...                              1   \n",
       "\"All kids need is a little help, a little hope,...                              9   \n",
       "\"All of us do not have equal talent, but all of...                              5   \n",
       "\"Any book that helps a child to form a habit of...                              2   \n",
       "\"Awaken people's curiosity. It is enough to ope...                              5   \n",
       "...                                                                           ...   \n",
       "You will often find my students gathered on the...                              9   \n",
       "You would think someone purposely gave my stude...                              4   \n",
       "Zoltan Kodaly once said, \"Real art is one of th...                              3   \n",
       "\\                                                                               4   \n",
       "are dreamers, thinkers, explorers and adventure...                              1   \n",
       "\n",
       "                                                    Project Title  \\\n",
       "Project Short Description                                           \n",
       "\"A teacher takes a hand, opens a mind, and touc...              3   \n",
       "\"All kids need is a little help, a little hope,...             24   \n",
       "\"All of us do not have equal talent, but all of...             11   \n",
       "\"Any book that helps a child to form a habit of...              3   \n",
       "\"Awaken people's curiosity. It is enough to ope...              6   \n",
       "...                                                           ...   \n",
       "You will often find my students gathered on the...             14   \n",
       "You would think someone purposely gave my stude...              7   \n",
       "Zoltan Kodaly once said, \"Real art is one of th...             20   \n",
       "\\                                                               4   \n",
       "are dreamers, thinkers, explorers and adventure...              5   \n",
       "\n",
       "                                                    Project Cost  \n",
       "Project Short Description                                         \n",
       "\"A teacher takes a hand, opens a mind, and touc...             3  \n",
       "\"All kids need is a little help, a little hope,...            23  \n",
       "\"All of us do not have equal talent, but all of...            11  \n",
       "\"Any book that helps a child to form a habit of...             3  \n",
       "\"Awaken people's curiosity. It is enough to ope...             6  \n",
       "...                                                          ...  \n",
       "You will often find my students gathered on the...            14  \n",
       "You would think someone purposely gave my stude...             8  \n",
       "Zoltan Kodaly once said, \"Real art is one of th...            18  \n",
       "\\                                                              4  \n",
       "are dreamers, thinkers, explorers and adventure...             5  \n",
       "\n",
       "[3863 rows x 4 columns]"
      ]
     },
     "execution_count": 10,
     "metadata": {},
     "output_type": "execute_result"
    }
   ],
   "source": [
    "df_grouped[df_grouped['Project Current Status']==3]"
   ]
  },
  {
   "cell_type": "markdown",
   "metadata": {},
   "source": [
    "<font color= brown> <font size = 5> 2. Data Wrangling </font>"
   ]
  },
  {
   "cell_type": "markdown",
   "metadata": {},
   "source": [
    "Vemos que hay descripciones que han tenido los 3 estatus por lo que lo que haré será marcar a todos los que alguna ves tuvieron un estatus `Fully Funded` como un 1 y todos los demás como un 0 ya que se encontrarán en live o expired y nunca han tenido un estatus `Fully Funded` y los que aún se siguen evaluando realmente no tienen evidencia de que si se vayan a fondear"
   ]
  },
  {
   "cell_type": "code",
   "execution_count": 11,
   "metadata": {},
   "outputs": [],
   "source": [
    "response = {'Fully Funded':1,'Expired':0,'Live':0}\n",
    "df['Project Current Status'].replace(response, inplace=True)"
   ]
  },
  {
   "cell_type": "code",
   "execution_count": 12,
   "metadata": {},
   "outputs": [],
   "source": [
    "to_drop = df[(df['Project Short Description'].duplicated()) & (df['Project Current Status']==0)].index"
   ]
  },
  {
   "cell_type": "markdown",
   "metadata": {},
   "source": [
    "Después de desechar aquellos duplicados que tenian un estatus = 0 ahora podemos desechar sin problema todos los demás duplicados, dado que todos tienen estatus 1 y la duplicidad se da debido a que el título del proyecto es diferente o el costo"
   ]
  },
  {
   "cell_type": "code",
   "execution_count": 13,
   "metadata": {},
   "outputs": [],
   "source": [
    "df2 = df[~df.index.isin(to_drop)]\n",
    "df3 = df2.drop_duplicates(subset='Project Short Description')"
   ]
  },
  {
   "cell_type": "code",
   "execution_count": 14,
   "metadata": {},
   "outputs": [
    {
     "data": {
      "text/html": [
       "<div>\n",
       "<style scoped>\n",
       "    .dataframe tbody tr th:only-of-type {\n",
       "        vertical-align: middle;\n",
       "    }\n",
       "\n",
       "    .dataframe tbody tr th {\n",
       "        vertical-align: top;\n",
       "    }\n",
       "\n",
       "    .dataframe thead th {\n",
       "        text-align: right;\n",
       "    }\n",
       "</style>\n",
       "<table border=\"1\" class=\"dataframe\">\n",
       "  <thead>\n",
       "    <tr style=\"text-align: right;\">\n",
       "      <th></th>\n",
       "      <th>% of nulls</th>\n",
       "      <th>unique_values</th>\n",
       "      <th>type</th>\n",
       "    </tr>\n",
       "  </thead>\n",
       "  <tbody>\n",
       "    <tr>\n",
       "      <th>Project Title</th>\n",
       "      <td>0.0</td>\n",
       "      <td>717503</td>\n",
       "      <td>object</td>\n",
       "    </tr>\n",
       "    <tr>\n",
       "      <th>Project Short Description</th>\n",
       "      <td>0.0</td>\n",
       "      <td>841865</td>\n",
       "      <td>object</td>\n",
       "    </tr>\n",
       "    <tr>\n",
       "      <th>Project Subject Category Tree</th>\n",
       "      <td>0.0</td>\n",
       "      <td>51</td>\n",
       "      <td>object</td>\n",
       "    </tr>\n",
       "    <tr>\n",
       "      <th>Project Cost</th>\n",
       "      <td>0.0</td>\n",
       "      <td>152019</td>\n",
       "      <td>float64</td>\n",
       "    </tr>\n",
       "    <tr>\n",
       "      <th>Project Current Status</th>\n",
       "      <td>0.0</td>\n",
       "      <td>2</td>\n",
       "      <td>int64</td>\n",
       "    </tr>\n",
       "  </tbody>\n",
       "</table>\n",
       "</div>"
      ],
      "text/plain": [
       "                               % of nulls  unique_values     type\n",
       "Project Title                         0.0         717503   object\n",
       "Project Short Description             0.0         841865   object\n",
       "Project Subject Category Tree         0.0             51   object\n",
       "Project Cost                          0.0         152019  float64\n",
       "Project Current Status                0.0              2    int64"
      ]
     },
     "execution_count": 14,
     "metadata": {},
     "output_type": "execute_result"
    }
   ],
   "source": [
    "fn.dqr(df3)"
   ]
  },
  {
   "cell_type": "code",
   "execution_count": 15,
   "metadata": {},
   "outputs": [
    {
     "data": {
      "text/plain": [
       "1    625969\n",
       "0    215896\n",
       "Name: Project Current Status, dtype: int64"
      ]
     },
     "execution_count": 15,
     "metadata": {},
     "output_type": "execute_result"
    }
   ],
   "source": [
    "df3['Project Current Status'].value_counts()"
   ]
  },
  {
   "cell_type": "code",
   "execution_count": 16,
   "metadata": {},
   "outputs": [
    {
     "data": {
      "image/png": "[encoded data removed]",
      "text/plain": [
       "<Figure size 648x504 with 1 Axes>"
      ]
     },
     "metadata": {},
     "output_type": "display_data"
    }
   ],
   "source": [
    "plt.figure(figsize=(9,7))\n",
    "plt.bar(x = ['Funded','Not Funded'], height = df3['Project Current Status'].value_counts().values)\n",
    "plt.title('Balance de las categorías');"
   ]
  },
  {
   "cell_type": "code",
   "execution_count": 17,
   "metadata": {},
   "outputs": [
    {
     "data": {
      "text/html": [
       "<div>\n",
       "<style scoped>\n",
       "    .dataframe tbody tr th:only-of-type {\n",
       "        vertical-align: middle;\n",
       "    }\n",
       "\n",
       "    .dataframe tbody tr th {\n",
       "        vertical-align: top;\n",
       "    }\n",
       "\n",
       "    .dataframe thead th {\n",
       "        text-align: right;\n",
       "    }\n",
       "</style>\n",
       "<table border=\"1\" class=\"dataframe\">\n",
       "  <thead>\n",
       "    <tr style=\"text-align: right;\">\n",
       "      <th></th>\n",
       "      <th>Project Title</th>\n",
       "      <th>Project Short Description</th>\n",
       "      <th>Project Subject Category Tree</th>\n",
       "      <th>Project Cost</th>\n",
       "      <th>Project Current Status</th>\n",
       "    </tr>\n",
       "  </thead>\n",
       "  <tbody>\n",
       "    <tr>\n",
       "      <th>0</th>\n",
       "      <td>Stand Up to Bullying: Together We Can!</td>\n",
       "      <td>Did you know that 1-7 students in grades K-12 ...</td>\n",
       "      <td>Applied Learning</td>\n",
       "      <td>361.80</td>\n",
       "      <td>1</td>\n",
       "    </tr>\n",
       "    <tr>\n",
       "      <th>1</th>\n",
       "      <td>Learning in Color!</td>\n",
       "      <td>Help us have a fun, interactive listening cent...</td>\n",
       "      <td>Applied Learning, Literacy &amp; Language</td>\n",
       "      <td>512.85</td>\n",
       "      <td>0</td>\n",
       "    </tr>\n",
       "    <tr>\n",
       "      <th>2</th>\n",
       "      <td>Help Second Grade ESL Students Develop Languag...</td>\n",
       "      <td>Visiting or moving to a new place can be very ...</td>\n",
       "      <td>Literacy &amp; Language</td>\n",
       "      <td>435.92</td>\n",
       "      <td>1</td>\n",
       "    </tr>\n",
       "    <tr>\n",
       "      <th>3</th>\n",
       "      <td>Help Bilingual Students Strengthen Reading Com...</td>\n",
       "      <td>Students at our school are still working hard ...</td>\n",
       "      <td>Literacy &amp; Language</td>\n",
       "      <td>161.26</td>\n",
       "      <td>1</td>\n",
       "    </tr>\n",
       "    <tr>\n",
       "      <th>4</th>\n",
       "      <td>Help Us Make Each Minute Count!</td>\n",
       "      <td>\"Idle hands\" were something that Issac Watts s...</td>\n",
       "      <td>Special Needs</td>\n",
       "      <td>264.19</td>\n",
       "      <td>1</td>\n",
       "    </tr>\n",
       "    <tr>\n",
       "      <th>...</th>\n",
       "      <td>...</td>\n",
       "      <td>...</td>\n",
       "      <td>...</td>\n",
       "      <td>...</td>\n",
       "      <td>...</td>\n",
       "    </tr>\n",
       "    <tr>\n",
       "      <th>1109975</th>\n",
       "      <td>Help My Students be Shaped by the Books They R...</td>\n",
       "      <td>I love that my students are passionate about r...</td>\n",
       "      <td>Literacy &amp; Language</td>\n",
       "      <td>233.15</td>\n",
       "      <td>0</td>\n",
       "    </tr>\n",
       "    <tr>\n",
       "      <th>1109976</th>\n",
       "      <td>Screen Printing 101</td>\n",
       "      <td>Most of the scholars had no idea that they wou...</td>\n",
       "      <td>Music &amp; The Arts</td>\n",
       "      <td>633.84</td>\n",
       "      <td>1</td>\n",
       "    </tr>\n",
       "    <tr>\n",
       "      <th>1109977</th>\n",
       "      <td>Flexible Seating for Super Second Graders!</td>\n",
       "      <td>My students are super second graders!!! Our sc...</td>\n",
       "      <td>Literacy &amp; Language, Math &amp; Science</td>\n",
       "      <td>626.24</td>\n",
       "      <td>0</td>\n",
       "    </tr>\n",
       "    <tr>\n",
       "      <th>1109978</th>\n",
       "      <td>Growing Artists!</td>\n",
       "      <td>I teach at a Title I school, and 76% of studen...</td>\n",
       "      <td>Literacy &amp; Language, Music &amp; The Arts</td>\n",
       "      <td>193.13</td>\n",
       "      <td>1</td>\n",
       "    </tr>\n",
       "    <tr>\n",
       "      <th>1109979</th>\n",
       "      <td>TIME For Kids!</td>\n",
       "      <td>I teach at a Title I school for a district tha...</td>\n",
       "      <td>Literacy &amp; Language</td>\n",
       "      <td>246.18</td>\n",
       "      <td>0</td>\n",
       "    </tr>\n",
       "  </tbody>\n",
       "</table>\n",
       "<p>841865 rows × 5 columns</p>\n",
       "</div>"
      ],
      "text/plain": [
       "                                             Project Title  \\\n",
       "0                   Stand Up to Bullying: Together We Can!   \n",
       "1                                       Learning in Color!   \n",
       "2        Help Second Grade ESL Students Develop Languag...   \n",
       "3        Help Bilingual Students Strengthen Reading Com...   \n",
       "4                         Help Us Make Each Minute Count!    \n",
       "...                                                    ...   \n",
       "1109975  Help My Students be Shaped by the Books They R...   \n",
       "1109976                                Screen Printing 101   \n",
       "1109977         Flexible Seating for Super Second Graders!   \n",
       "1109978                                   Growing Artists!   \n",
       "1109979                                     TIME For Kids!   \n",
       "\n",
       "                                 Project Short Description  \\\n",
       "0        Did you know that 1-7 students in grades K-12 ...   \n",
       "1        Help us have a fun, interactive listening cent...   \n",
       "2        Visiting or moving to a new place can be very ...   \n",
       "3        Students at our school are still working hard ...   \n",
       "4        \"Idle hands\" were something that Issac Watts s...   \n",
       "...                                                    ...   \n",
       "1109975  I love that my students are passionate about r...   \n",
       "1109976  Most of the scholars had no idea that they wou...   \n",
       "1109977  My students are super second graders!!! Our sc...   \n",
       "1109978  I teach at a Title I school, and 76% of studen...   \n",
       "1109979  I teach at a Title I school for a district tha...   \n",
       "\n",
       "                 Project Subject Category Tree  Project Cost  \\\n",
       "0                             Applied Learning        361.80   \n",
       "1        Applied Learning, Literacy & Language        512.85   \n",
       "2                          Literacy & Language        435.92   \n",
       "3                          Literacy & Language        161.26   \n",
       "4                                Special Needs        264.19   \n",
       "...                                        ...           ...   \n",
       "1109975                    Literacy & Language        233.15   \n",
       "1109976                       Music & The Arts        633.84   \n",
       "1109977    Literacy & Language, Math & Science        626.24   \n",
       "1109978  Literacy & Language, Music & The Arts        193.13   \n",
       "1109979                    Literacy & Language        246.18   \n",
       "\n",
       "         Project Current Status  \n",
       "0                             1  \n",
       "1                             0  \n",
       "2                             1  \n",
       "3                             1  \n",
       "4                             1  \n",
       "...                         ...  \n",
       "1109975                       0  \n",
       "1109976                       1  \n",
       "1109977                       0  \n",
       "1109978                       1  \n",
       "1109979                       0  \n",
       "\n",
       "[841865 rows x 5 columns]"
      ]
     },
     "execution_count": 17,
     "metadata": {},
     "output_type": "execute_result"
    }
   ],
   "source": [
    "df3"
   ]
  },
  {
   "cell_type": "code",
   "execution_count": 18,
   "metadata": {},
   "outputs": [],
   "source": [
    "def check_for_digits(string): \n",
    "    \n",
    "    digit_regex = r'\\d+' # busca todos los dígitos que aparezcan uno o más veces (juntos)\n",
    "    digits = re.findall(digit_regex,string)\n",
    "    return len(digits)"
   ]
  },
  {
   "cell_type": "code",
   "execution_count": 20,
   "metadata": {},
   "outputs": [],
   "source": [
    "df3['longitud_texto'] = df3['Project Short Description'].apply(lambda x: len(x))\n",
    "df3['n_palabras'] = df3['Project Short Description'].apply(lambda x: len(x.split(' ')))\n",
    "df3['check_citation'] = df3['Project Short Description'].apply(lambda x: 1 if '\"' in x else 0)\n",
    "df3['check_digits'] = df3['Project Short Description'].apply(lambda x: check_for_digits(x))\n",
    "df3['check_admiration'] = df3['Project Short Description'].apply(lambda x: 1 if '!' in (x) else 0)"
   ]
  },
  {
   "cell_type": "code",
   "execution_count": 21,
   "metadata": {},
   "outputs": [],
   "source": [
    "df_final = df3.loc[:,['longitud_texto','n_palabras','check_citation','check_digits','check_admiration','Project Current Status']]"
   ]
  },
  {
   "cell_type": "code",
   "execution_count": 98,
   "metadata": {},
   "outputs": [],
   "source": []
  },
  {
   "cell_type": "code",
   "execution_count": 99,
   "metadata": {},
   "outputs": [
    {
     "data": {
      "text/plain": [
       "[[27, 5, 0, 2, 1]]"
      ]
     },
     "execution_count": 99,
     "metadata": {},
     "output_type": "execute_result"
    }
   ],
   "source": []
  },
  {
   "cell_type": "markdown",
   "metadata": {},
   "source": [
    "<font color= brown> <font size = 5> 3. Entrenamiento, validación, evaluación y selección del modelo </font>"
   ]
  },
  {
   "cell_type": "code",
   "execution_count": 27,
   "metadata": {},
   "outputs": [],
   "source": [
    "response = ['Project Current Status']\n",
    "predictors = [c for c in df_final if c not in response]\n",
    "\n",
    "x_train, x_test, y_train, y_test = train_test_split(\n",
    "    df_final[predictors],\n",
    "    df_final[response],\n",
    "    test_size = .2,\n",
    "    random_state = 17\n",
    ")"
   ]
  },
  {
   "cell_type": "code",
   "execution_count": 35,
   "metadata": {},
   "outputs": [],
   "source": [
    "# Model\n",
    "from multiprocessing import cpu_count\n",
    "rf = RandomForestClassifier(n_estimators = 750,\n",
    "                           criterion = 'gini',\n",
    "                           max_depth = 10,\n",
    "                           max_features = 5,\n",
    "                           n_jobs = cpu_count() - 2,\n",
    "                           bootstrap = True,\n",
    "                           max_samples = .8,\n",
    "                           random_state = 17)"
   ]
  },
  {
   "cell_type": "code",
   "execution_count": 36,
   "metadata": {},
   "outputs": [
    {
     "data": {
      "text/plain": [
       "RandomForestClassifier(max_depth=10, max_features=5, max_samples=0.8,\n",
       "                       n_estimators=750, n_jobs=6, random_state=17)"
      ]
     },
     "execution_count": 36,
     "metadata": {},
     "output_type": "execute_result"
    }
   ],
   "source": [
    "# Fit\n",
    "rf.fit(x_train,y_train)"
   ]
  },
  {
   "cell_type": "code",
   "execution_count": 37,
   "metadata": {},
   "outputs": [],
   "source": [
    "# P(y=\"Funded\" | X)\n",
    "scores = rf.predict_proba(x_test)[:, 1]"
   ]
  },
  {
   "cell_type": "code",
   "execution_count": 38,
   "metadata": {},
   "outputs": [
    {
     "data": {
      "text/plain": [
       "0.5131407592040416"
      ]
     },
     "execution_count": 38,
     "metadata": {},
     "output_type": "execute_result"
    }
   ],
   "source": [
    "roc_auc_score(y_score=scores, y_true=y_test)"
   ]
  },
  {
   "cell_type": "markdown",
   "metadata": {},
   "source": [
    "La métrica de performance es pésima, esto es debido a que los predictores no son útiles para clasificar lo que queremos"
   ]
  },
  {
   "cell_type": "code",
   "execution_count": 44,
   "metadata": {},
   "outputs": [],
   "source": [
    "import pickle\n",
    "pickle.dump(rf, open('text_model.pickle', 'wb'))"
   ]
  },
  {
   "cell_type": "code",
   "execution_count": 88,
   "metadata": {},
   "outputs": [
    {
     "data": {
      "text/plain": [
       "[[195], [39], [0], [0], [0]]"
      ]
     },
     "execution_count": 88,
     "metadata": {},
     "output_type": "execute_result"
    }
   ],
   "source": [
    "a = [[i] for i in x_test.loc[737323].values]\n",
    "a"
   ]
  },
  {
   "cell_type": "code",
   "execution_count": 90,
   "metadata": {},
   "outputs": [
    {
     "data": {
      "text/html": [
       "<div>\n",
       "<style scoped>\n",
       "    .dataframe tbody tr th:only-of-type {\n",
       "        vertical-align: middle;\n",
       "    }\n",
       "\n",
       "    .dataframe tbody tr th {\n",
       "        vertical-align: top;\n",
       "    }\n",
       "\n",
       "    .dataframe thead th {\n",
       "        text-align: right;\n",
       "    }\n",
       "</style>\n",
       "<table border=\"1\" class=\"dataframe\">\n",
       "  <thead>\n",
       "    <tr style=\"text-align: right;\">\n",
       "      <th></th>\n",
       "      <th>longitud_texto</th>\n",
       "      <th>n_palabras</th>\n",
       "      <th>check_citation</th>\n",
       "      <th>check_digits</th>\n",
       "      <th>check_admiration</th>\n",
       "    </tr>\n",
       "  </thead>\n",
       "  <tbody>\n",
       "    <tr>\n",
       "      <th>737323</th>\n",
       "      <td>195</td>\n",
       "      <td>39</td>\n",
       "      <td>0</td>\n",
       "      <td>0</td>\n",
       "      <td>0</td>\n",
       "    </tr>\n",
       "    <tr>\n",
       "      <th>954298</th>\n",
       "      <td>195</td>\n",
       "      <td>33</td>\n",
       "      <td>0</td>\n",
       "      <td>0</td>\n",
       "      <td>0</td>\n",
       "    </tr>\n",
       "    <tr>\n",
       "      <th>1042183</th>\n",
       "      <td>195</td>\n",
       "      <td>28</td>\n",
       "      <td>0</td>\n",
       "      <td>0</td>\n",
       "      <td>0</td>\n",
       "    </tr>\n",
       "    <tr>\n",
       "      <th>808456</th>\n",
       "      <td>199</td>\n",
       "      <td>32</td>\n",
       "      <td>0</td>\n",
       "      <td>0</td>\n",
       "      <td>0</td>\n",
       "    </tr>\n",
       "    <tr>\n",
       "      <th>223748</th>\n",
       "      <td>198</td>\n",
       "      <td>32</td>\n",
       "      <td>0</td>\n",
       "      <td>0</td>\n",
       "      <td>0</td>\n",
       "    </tr>\n",
       "    <tr>\n",
       "      <th>...</th>\n",
       "      <td>...</td>\n",
       "      <td>...</td>\n",
       "      <td>...</td>\n",
       "      <td>...</td>\n",
       "      <td>...</td>\n",
       "    </tr>\n",
       "    <tr>\n",
       "      <th>308752</th>\n",
       "      <td>191</td>\n",
       "      <td>39</td>\n",
       "      <td>1</td>\n",
       "      <td>1</td>\n",
       "      <td>1</td>\n",
       "    </tr>\n",
       "    <tr>\n",
       "      <th>951802</th>\n",
       "      <td>199</td>\n",
       "      <td>36</td>\n",
       "      <td>0</td>\n",
       "      <td>0</td>\n",
       "      <td>0</td>\n",
       "    </tr>\n",
       "    <tr>\n",
       "      <th>110356</th>\n",
       "      <td>190</td>\n",
       "      <td>36</td>\n",
       "      <td>0</td>\n",
       "      <td>0</td>\n",
       "      <td>1</td>\n",
       "    </tr>\n",
       "    <tr>\n",
       "      <th>488383</th>\n",
       "      <td>198</td>\n",
       "      <td>35</td>\n",
       "      <td>0</td>\n",
       "      <td>0</td>\n",
       "      <td>0</td>\n",
       "    </tr>\n",
       "    <tr>\n",
       "      <th>837312</th>\n",
       "      <td>195</td>\n",
       "      <td>37</td>\n",
       "      <td>0</td>\n",
       "      <td>1</td>\n",
       "      <td>0</td>\n",
       "    </tr>\n",
       "  </tbody>\n",
       "</table>\n",
       "<p>168373 rows × 5 columns</p>\n",
       "</div>"
      ],
      "text/plain": [
       "         longitud_texto  n_palabras  check_citation  check_digits  \\\n",
       "737323              195          39               0             0   \n",
       "954298              195          33               0             0   \n",
       "1042183             195          28               0             0   \n",
       "808456              199          32               0             0   \n",
       "223748              198          32               0             0   \n",
       "...                 ...         ...             ...           ...   \n",
       "308752              191          39               1             1   \n",
       "951802              199          36               0             0   \n",
       "110356              190          36               0             0   \n",
       "488383              198          35               0             0   \n",
       "837312              195          37               0             1   \n",
       "\n",
       "         check_admiration  \n",
       "737323                  0  \n",
       "954298                  0  \n",
       "1042183                 0  \n",
       "808456                  0  \n",
       "223748                  0  \n",
       "...                   ...  \n",
       "308752                  1  \n",
       "951802                  0  \n",
       "110356                  1  \n",
       "488383                  0  \n",
       "837312                  0  \n",
       "\n",
       "[168373 rows x 5 columns]"
      ]
     },
     "execution_count": 90,
     "metadata": {},
     "output_type": "execute_result"
    }
   ],
   "source": [
    "x_test"
   ]
  },
  {
   "cell_type": "code",
   "execution_count": 103,
   "metadata": {},
   "outputs": [
    {
     "data": {
      "text/plain": [
       "0.7981843437304496"
      ]
     },
     "execution_count": 103,
     "metadata": {},
     "output_type": "execute_result"
    }
   ],
   "source": [
    "#loaded_model = pickle.load(open('text_model.pickle', 'rb'))\n",
    "# result = loaded_model.predict_proba(get_predictors('string'))\n",
    "# result[0][1]"
   ]
  },
  {
   "cell_type": "markdown",
   "metadata": {},
   "source": [
    "# <font color= #6B6B6B> <font size = 6> Bibliografía </font>"
   ]
  },
  {
   "cell_type": "markdown",
   "metadata": {},
   "source": [
    "<hr style=\"border:0.02in solid gray\"> </hr>"
   ]
  },
  {
   "cell_type": "markdown",
   "metadata": {},
   "source": [
    "Unicamente se consultó código proporcionado en clases."
   ]
  },
  {
   "cell_type": "markdown",
   "metadata": {},
   "source": [
    "<br>"
   ]
  }
 ],
 "metadata": {
  "kernelspec": {
   "display_name": "Python 3 (ipykernel)",
   "language": "python",
   "name": "python3"
  },
  "language_info": {
   "codemirror_mode": {
    "name": "ipython",
    "version": 3
   },
   "file_extension": ".py",
   "mimetype": "text/x-python",
   "name": "python",
   "nbconvert_exporter": "python",
   "pygments_lexer": "ipython3",
   "version": "3.8.3"
  },
  "vscode": {
   "interpreter": {
    "hash": "eae8fb93f0afa35d1b7734cf99937b4b8f604b059245bf7179f71469e5b0c70a"
   }
  }
 },
 "nbformat": 4,
 "nbformat_minor": 4
}
